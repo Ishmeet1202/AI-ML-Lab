{
 "cells": [
  {
   "cell_type": "code",
   "execution_count": 29,
   "metadata": {},
   "outputs": [
    {
     "name": "stdout",
     "output_type": "stream",
     "text": [
      "ORIGINAL SERIES\n",
      "0     783\n",
      "1     599\n",
      "2     639\n",
      "3     963\n",
      "4     354\n",
      "     ... \n",
      "95    732\n",
      "96    777\n",
      "97    172\n",
      "98    206\n",
      "99    264\n",
      "Length: 100, dtype: int64\n",
      "\n",
      "MEAN: 415\n",
      "MEDIAN: 404.0\n",
      "\n",
      "REPLACE WITH MEAN\n",
      "0     783\n",
      "1     599\n",
      "2     639\n",
      "3     415\n",
      "4     354\n",
      "     ... \n",
      "95    732\n",
      "96    777\n",
      "97    172\n",
      "98    206\n",
      "99    264\n",
      "Length: 100, dtype: int64\n",
      "\n",
      "REPLACE WITH MEDIAN\n",
      "0     783\n",
      "1     599\n",
      "2     639\n",
      "3     404\n",
      "4     354\n",
      "     ... \n",
      "95    732\n",
      "96    777\n",
      "97    172\n",
      "98    206\n",
      "99    264\n",
      "Length: 100, dtype: int64\n"
     ]
    }
   ],
   "source": [
    "import pandas as pd\n",
    "import random\n",
    "\n",
    "series = pd.Series([random.randint(1,1000) for i in range(100)])\n",
    "print(\"ORIGINAL SERIES\")\n",
    "print(series)\n",
    "\n",
    "def filter_series(series):\n",
    "    arr = []\n",
    "    for value in series:\n",
    "        if value <= 799:\n",
    "            arr.append(value)\n",
    "    return pd.Series(arr)\n",
    "\n",
    "def replace_values(series,mean_or_median):\n",
    "    for i in range(len(series)):\n",
    "        if series[i] > 799:\n",
    "            series[i] = mean_or_median\n",
    "    return series           \n",
    "\n",
    "filtered_series = filter_series(series)\n",
    "mean = int(filtered_series.mean())\n",
    "median = filtered_series.median()\n",
    "print(f\"\\nMEAN: {mean}\")\n",
    "print(f\"MEDIAN: {median}\")\n",
    "\n",
    "series_mean = replace_values(series.copy(),mean)\n",
    "series_median = replace_values(series.copy(),median)\n",
    "\n",
    "print(\"\\nREPLACE WITH MEAN\")\n",
    "print(series_mean)\n",
    "\n",
    "print(\"\\nREPLACE WITH MEDIAN\")\n",
    "print(series_median)\n",
    "\n"
   ]
  }
 ],
 "metadata": {
  "kernelspec": {
   "display_name": "base",
   "language": "python",
   "name": "python3"
  },
  "language_info": {
   "codemirror_mode": {
    "name": "ipython",
    "version": 3
   },
   "file_extension": ".py",
   "mimetype": "text/x-python",
   "name": "python",
   "nbconvert_exporter": "python",
   "pygments_lexer": "ipython3",
   "version": "3.12.4"
  }
 },
 "nbformat": 4,
 "nbformat_minor": 2
}
